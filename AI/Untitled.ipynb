{
 "cells": [
  {
   "cell_type": "code",
   "execution_count": 1,
   "id": "68753248",
   "metadata": {},
   "outputs": [],
   "source": [
    "from google_play_scraper import Sort, reviews_all\n",
    "import pandas as pd\n",
    "import numpy as np\n",
    "\n",
    "result  = reviews_all(\n",
    "    'com.icandesignapp.all',\n",
    "    sleep_milliseconds=0, # defaults to 0\n",
    "    lang='ko', # defaults to 'en'\n",
    "    country='kr', # defaults to 'us'\n",
    "    sort=Sort.MOST_RELEVANT, # defaults to Sort.MOST_RELEVANT\n",
    "    filter_score_with= 0 # defaults to None(means all score)\n",
    ")\n",
    "\n",
    "result_1  = reviews_all(\n",
    "    'com.planner5d.planner5d',\n",
    "    sleep_milliseconds=0, # defaults to 0\n",
    "    lang='ko', # defaults to 'en'\n",
    "    country='kr', # defaults to 'us'\n",
    "    sort=Sort.MOST_RELEVANT, # defaults to Sort.MOST_RELEVANT\n",
    "    filter_score_with= 0 # defaults to None(means all score)\n",
    ")\n",
    "\n",
    "result_2  = reviews_all(\n",
    "    'fr.anuman.HomeDesign3D',\n",
    "    sleep_milliseconds=0, # defaults to 0\n",
    "    lang='ko', # defaults to 'en'\n",
    "    country='kr', # defaults to 'us'\n",
    "    sort=Sort.MOST_RELEVANT, # defaults to Sort.MOST_RELEVANT\n",
    "    filter_score_with= 0 # defaults to None(means all score)\n",
    ")\n",
    "\n",
    "df = pd.DataFrame(np.array(result), columns=['review'])\n",
    "df = df.join(pd.DataFrame(df.pop('review').tolist()))\n",
    "\n",
    "df_1 = pd.DataFrame(np.array(result_1), columns=['review'])\n",
    "df_1 = df_1.join(pd.DataFrame(df_1.pop('review').tolist()))\n",
    "\n",
    "df_2 = pd.DataFrame(np.array(result_2), columns=['review'])\n",
    "df_2 = df_2.join(pd.DataFrame(df_2.pop('review').tolist()))\n",
    " \n",
    "\n"
   ]
  },
  {
   "cell_type": "code",
   "execution_count": 2,
   "id": "bfc51fb6",
   "metadata": {},
   "outputs": [],
   "source": [
    "df = df[['content','score']]\n",
    "drop_index = df[df['score'] == 3].index\n",
    "df = df.drop(drop_index)\n",
    "df['label'] = np.where(df['score'] >=4 , 1, 0)\n",
    "df = df[['content','label']]\n",
    "\n",
    "df_1 = df_1[['content','score']]\n",
    "drop_index_1 = df_1[df_1['score'] == 3].index\n",
    "df_1 = df_1.drop(drop_index_1)\n",
    "df_1['label'] = np.where(df_1['score'] >=4 , 1, 0)\n",
    "df_1 = df_1[['content','label']]\n",
    "\n",
    "df_2 = df_2[['content','score']]\n",
    "drop_index_2 = df_2[df_2['score'] == 3].index\n",
    "df_2 = df_2.drop(drop_index_2)\n",
    "df_2['label'] = np.where(df_2['score'] >=4 , 1, 0)\n",
    "df_2 = df_2[['content','label']]\n"
   ]
  },
  {
   "cell_type": "code",
   "execution_count": 3,
   "id": "607dd873",
   "metadata": {},
   "outputs": [
    {
     "name": "stdout",
     "output_type": "stream",
     "text": [
      "920\n"
     ]
    }
   ],
   "source": [
    "print(len(df)+len(df_1)+len(df_2))"
   ]
  },
  {
   "cell_type": "code",
   "execution_count": 4,
   "id": "ef99a6cb",
   "metadata": {},
   "outputs": [],
   "source": [
    "tmp_df = pd.concat([df, df_1, df_2], ignore_index=True)"
   ]
  },
  {
   "cell_type": "code",
   "execution_count": 5,
   "id": "6a5bfc8d",
   "metadata": {},
   "outputs": [
    {
     "data": {
      "text/plain": [
       "920"
      ]
     },
     "execution_count": 5,
     "metadata": {},
     "output_type": "execute_result"
    }
   ],
   "source": [
    "len(tmp_df)"
   ]
  },
  {
   "cell_type": "code",
   "execution_count": 6,
   "id": "cc361097",
   "metadata": {},
   "outputs": [
    {
     "data": {
      "text/html": [
       "<div>\n",
       "<style scoped>\n",
       "    .dataframe tbody tr th:only-of-type {\n",
       "        vertical-align: middle;\n",
       "    }\n",
       "\n",
       "    .dataframe tbody tr th {\n",
       "        vertical-align: top;\n",
       "    }\n",
       "\n",
       "    .dataframe thead th {\n",
       "        text-align: right;\n",
       "    }\n",
       "</style>\n",
       "<table border=\"1\" class=\"dataframe\">\n",
       "  <thead>\n",
       "    <tr style=\"text-align: right;\">\n",
       "      <th></th>\n",
       "      <th>content</th>\n",
       "      <th>label</th>\n",
       "    </tr>\n",
       "  </thead>\n",
       "  <tbody>\n",
       "    <tr>\n",
       "      <th>0</th>\n",
       "      <td>단점: 1. 업데이트 되고 더 어려워진 조작법 2. 시도때도 없는 현질유도 3. 렉...</td>\n",
       "      <td>0</td>\n",
       "    </tr>\n",
       "    <tr>\n",
       "      <th>1</th>\n",
       "      <td>벽 세우는게 간단해서 손가락만 있으면 가능. 단, 프로모드(현질)가 아니라서 정확한...</td>\n",
       "      <td>1</td>\n",
       "    </tr>\n",
       "    <tr>\n",
       "      <th>2</th>\n",
       "      <td>안녕하세요~ 이 게임 예전부터 즐겨했는데 괜찮고 문제 없었어요. 가구 진짜 많고 검...</td>\n",
       "      <td>1</td>\n",
       "    </tr>\n",
       "    <tr>\n",
       "      <th>3</th>\n",
       "      <td>일단 광고도 안나오고 물건도 다양하고 사용하기도 쉽고 그런데 처음에 들어가면 현질이...</td>\n",
       "      <td>1</td>\n",
       "    </tr>\n",
       "    <tr>\n",
       "      <th>4</th>\n",
       "      <td>아 너무 좋아요. 근데 제가 버그하나 제보좀 할게요. 버그 제보하는 방법을 몰라서 ...</td>\n",
       "      <td>1</td>\n",
       "    </tr>\n",
       "    <tr>\n",
       "      <th>...</th>\n",
       "      <td>...</td>\n",
       "      <td>...</td>\n",
       "    </tr>\n",
       "    <tr>\n",
       "      <th>915</th>\n",
       "      <td>Including everything I've wanted</td>\n",
       "      <td>1</td>\n",
       "    </tr>\n",
       "    <tr>\n",
       "      <th>916</th>\n",
       "      <td>유료</td>\n",
       "      <td>0</td>\n",
       "    </tr>\n",
       "    <tr>\n",
       "      <th>917</th>\n",
       "      <td>What is it? Are you kidding me? So hard and da...</td>\n",
       "      <td>0</td>\n",
       "    </tr>\n",
       "    <tr>\n",
       "      <th>918</th>\n",
       "      <td>안됌</td>\n",
       "      <td>0</td>\n",
       "    </tr>\n",
       "    <tr>\n",
       "      <th>919</th>\n",
       "      <td>Good</td>\n",
       "      <td>1</td>\n",
       "    </tr>\n",
       "  </tbody>\n",
       "</table>\n",
       "<p>920 rows × 2 columns</p>\n",
       "</div>"
      ],
      "text/plain": [
       "                                               content  label\n",
       "0    단점: 1. 업데이트 되고 더 어려워진 조작법 2. 시도때도 없는 현질유도 3. 렉...      0\n",
       "1    벽 세우는게 간단해서 손가락만 있으면 가능. 단, 프로모드(현질)가 아니라서 정확한...      1\n",
       "2    안녕하세요~ 이 게임 예전부터 즐겨했는데 괜찮고 문제 없었어요. 가구 진짜 많고 검...      1\n",
       "3    일단 광고도 안나오고 물건도 다양하고 사용하기도 쉽고 그런데 처음에 들어가면 현질이...      1\n",
       "4    아 너무 좋아요. 근데 제가 버그하나 제보좀 할게요. 버그 제보하는 방법을 몰라서 ...      1\n",
       "..                                                 ...    ...\n",
       "915                   Including everything I've wanted      1\n",
       "916                                                 유료      0\n",
       "917  What is it? Are you kidding me? So hard and da...      0\n",
       "918                                                 안됌      0\n",
       "919                                               Good      1\n",
       "\n",
       "[920 rows x 2 columns]"
      ]
     },
     "execution_count": 6,
     "metadata": {},
     "output_type": "execute_result"
    }
   ],
   "source": [
    "tmp_df"
   ]
  },
  {
   "cell_type": "code",
   "execution_count": 7,
   "id": "104ebfa9",
   "metadata": {},
   "outputs": [],
   "source": [
    "tmp_df.to_csv('train.txt', sep='\\t')"
   ]
  },
  {
   "cell_type": "code",
   "execution_count": 8,
   "id": "000540ca",
   "metadata": {},
   "outputs": [],
   "source": [
    "def read_data(filename):\n",
    "    with open(filename, 'r',encoding='utf-8') as f:\n",
    "        data = [line.split('\\t') for line in f.read().splitlines()]\n",
    "        # txt 파일의 헤더(id document label)는 제외하기\n",
    "        data = data[1:]\n",
    "    return data\n",
    "\n",
    "all_data = read_data('train.txt')"
   ]
  },
  {
   "cell_type": "code",
   "execution_count": 9,
   "id": "f90b44bc",
   "metadata": {},
   "outputs": [],
   "source": [
    "from sklearn.model_selection import train_test_split\n",
    "\n",
    "train_data, test_data = train_test_split(all_data, test_size= 0.1, random_state=2000)\n"
   ]
  },
  {
   "cell_type": "code",
   "execution_count": 10,
   "id": "7a98cc58",
   "metadata": {},
   "outputs": [
    {
     "name": "stdout",
     "output_type": "stream",
     "text": [
      "829\n",
      "3\n",
      "93\n",
      "3\n"
     ]
    }
   ],
   "source": [
    "print(len(train_data))\n",
    "print(len(train_data[0]))\n",
    "print(len(test_data))\n",
    "print(len(test_data[0]))"
   ]
  },
  {
   "cell_type": "code",
   "execution_count": 11,
   "id": "617e5c0e",
   "metadata": {},
   "outputs": [],
   "source": [
    "from konlpy.tag import Okt\n",
    "\n",
    "okt = Okt()\n",
    "\n"
   ]
  },
  {
   "cell_type": "code",
   "execution_count": 12,
   "id": "7ff57b7f",
   "metadata": {},
   "outputs": [
    {
     "name": "stdout",
     "output_type": "stream",
     "text": [
      "[['나름/Noun', '만족/Noun', '중/Suffix'], '1']\n"
     ]
    }
   ],
   "source": [
    "import json\n",
    "import os\n",
    "from pprint import pprint\n",
    "\n",
    "def tokenize(doc):\n",
    "    # norm은 정규화, stem은 근어로 표시하기를 나타냄\n",
    "    return ['/'.join(t) for t in okt.pos(doc, norm=True, stem=True)]\n",
    "\n",
    "if os.path.isfile('train_docs.json'):\n",
    "    with open('train_docs.json', encoding='utf-8') as f:\n",
    "        train_docs = json.load(f)\n",
    "    with open('test_docs.json', encoding='utf-8') as f:\n",
    "        test_docs = json.load(f)\n",
    "else:\n",
    "    train_docs = [(tokenize(row[1]), row[2]) for row in train_data]\n",
    "    test_docs = [(tokenize(row[1]), row[2]) for row in test_data]\n",
    "    # JSON 파일로 저장\n",
    "    with open('train_docs.json', 'w', encoding=\"utf-8\") as make_file:\n",
    "        json.dump(train_docs, make_file, ensure_ascii=False, indent=\"\\t\")\n",
    "    with open('test_docs.json', 'w', encoding=\"utf-8\") as make_file:\n",
    "        json.dump(test_docs, make_file, ensure_ascii=False, indent=\"\\t\")\n",
    "\n",
    "# 예쁘게(?) 출력하기 위해서 pprint 라이브러리 사용\n",
    "pprint(train_docs[0])"
   ]
  },
  {
   "cell_type": "code",
   "execution_count": 13,
   "id": "7343863b",
   "metadata": {},
   "outputs": [
    {
     "name": "stdout",
     "output_type": "stream",
     "text": [
      "5987\n"
     ]
    }
   ],
   "source": [
    "tokens = [t for d in train_docs for t in d[0]]\n",
    "print(len(tokens))"
   ]
  },
  {
   "cell_type": "code",
   "execution_count": 14,
   "id": "158b715d",
   "metadata": {},
   "outputs": [
    {
     "name": "stdout",
     "output_type": "stream",
     "text": [
      "5987\n",
      "1442\n",
      "[('하다/Verb', 222),\n",
      " ('좋다/Adjective', 177),\n",
      " ('./Punctuation', 170),\n",
      " ('이/Josa', 104),\n",
      " ('가/Josa', 91),\n",
      " ('있다/Adjective', 88),\n",
      " ('도/Josa', 74),\n",
      " ('을/Josa', 73),\n",
      " ('너무/Adverb', 65),\n",
      " ('에/Josa', 64)]\n"
     ]
    }
   ],
   "source": [
    "import nltk\n",
    "text = nltk.Text(tokens, name='NMSC')\n",
    "\n",
    "# 전체 토큰의 개수\n",
    "print(len(text.tokens))\n",
    "\n",
    "# 중복을 제외한 토큰의 개수\n",
    "print(len(set(text.tokens)))            \n",
    "\n",
    "# 출현 빈도가 높은 상위 토큰 10개\n",
    "pprint(text.vocab().most_common(10))"
   ]
  },
  {
   "cell_type": "code",
   "execution_count": 15,
   "id": "3fbc4837",
   "metadata": {},
   "outputs": [
    {
     "data": {
      "image/png": "[encoded data removed]",
      "text/plain": [
       "<Figure size 1440x720 with 1 Axes>"
      ]
     },
     "metadata": {
      "needs_background": "light"
     },
     "output_type": "display_data"
    },
    {
     "data": {
      "text/plain": [
       "<AxesSubplot:xlabel='Samples', ylabel='Counts'>"
      ]
     },
     "execution_count": 15,
     "metadata": {},
     "output_type": "execute_result"
    }
   ],
   "source": [
    "import matplotlib.pyplot as plt\n",
    "from matplotlib import font_manager, rc\n",
    "%matplotlib inline\n",
    "\n",
    "font_fname = 'malgun.ttf'\n",
    "font_name = font_manager.FontProperties(fname=font_fname).get_name()\n",
    "rc('font', family=font_name)\n",
    "\n",
    "plt.figure(figsize=(20,10))\n",
    "text.plot(50)"
   ]
  },
  {
   "cell_type": "code",
   "execution_count": 27,
   "id": "44342f45",
   "metadata": {},
   "outputs": [],
   "source": [
    "# 시간이 꽤 걸립니다! 시간을 절약하고 싶으면 most_common의 매개변수를 줄여보세요.\n",
    "selected_words = [f[0] for f in text.vocab().most_common(100)]\n",
    "\n",
    "def term_frequency(doc):\n",
    "    return [doc.count(word) for word in selected_words]\n",
    "\n",
    "train_x = [term_frequency(d) for d, _ in train_docs]\n",
    "test_x = [term_frequency(d) for d, _ in test_docs]\n",
    "train_y = [c for _, c in train_docs]\n",
    "test_y = [c for _, c in test_docs]"
   ]
  },
  {
   "cell_type": "code",
   "execution_count": 28,
   "id": "3c351989",
   "metadata": {},
   "outputs": [],
   "source": [
    "import numpy as np\n",
    "\n",
    "x_train = np.asarray(train_x).astype('float32')\n",
    "x_test = np.asarray(test_x).astype('float32')\n",
    "\n",
    "y_train = np.asarray(train_y).astype('float32')\n",
    "y_test = np.asarray(test_y).astype('float32')"
   ]
  },
  {
   "cell_type": "code",
   "execution_count": 33,
   "id": "67362ecf",
   "metadata": {},
   "outputs": [
    {
     "name": "stderr",
     "output_type": "stream",
     "text": [
      "C:\\Users\\HP\\miniconda3\\envs\\gpu\\lib\\site-packages\\keras\\optimizer_v2\\optimizer_v2.py:356: UserWarning: The `lr` argument is deprecated, use `learning_rate` instead.\n",
      "  \"The `lr` argument is deprecated, use `learning_rate` instead.\")\n"
     ]
    },
    {
     "name": "stdout",
     "output_type": "stream",
     "text": [
      "Epoch 1/100\n",
      "1/1 [==============================] - 0s 273ms/step - loss: 0.6801 - accuracy: 0.5427\n",
      "Epoch 2/100\n",
      "1/1 [==============================] - 0s 6ms/step - loss: 0.6531 - accuracy: 0.7161\n",
      "Epoch 3/100\n",
      "1/1 [==============================] - 0s 14ms/step - loss: 0.6350 - accuracy: 0.7161\n",
      "Epoch 4/100\n",
      "1/1 [==============================] - 0s 12ms/step - loss: 0.6199 - accuracy: 0.7186\n",
      "Epoch 5/100\n",
      "1/1 [==============================] - 0s 4ms/step - loss: 0.6063 - accuracy: 0.7211\n",
      "Epoch 6/100\n",
      "1/1 [==============================] - 0s 5ms/step - loss: 0.5933 - accuracy: 0.7261\n",
      "Epoch 7/100\n",
      "1/1 [==============================] - 0s 11ms/step - loss: 0.5809 - accuracy: 0.7286\n",
      "Epoch 8/100\n",
      "1/1 [==============================] - 0s 12ms/step - loss: 0.5688 - accuracy: 0.7312\n",
      "Epoch 9/100\n",
      "1/1 [==============================] - 0s 6ms/step - loss: 0.5570 - accuracy: 0.7387\n",
      "Epoch 10/100\n",
      "1/1 [==============================] - 0s 5ms/step - loss: 0.5451 - accuracy: 0.7462\n",
      "Epoch 11/100\n",
      "1/1 [==============================] - 0s 12ms/step - loss: 0.5331 - accuracy: 0.7538\n",
      "Epoch 12/100\n",
      "1/1 [==============================] - 0s 13ms/step - loss: 0.5214 - accuracy: 0.7638\n",
      "Epoch 13/100\n",
      "1/1 [==============================] - 0s 11ms/step - loss: 0.5096 - accuracy: 0.7814\n",
      "Epoch 14/100\n",
      "1/1 [==============================] - 0s 13ms/step - loss: 0.4979 - accuracy: 0.7889\n",
      "Epoch 15/100\n",
      "1/1 [==============================] - 0s 4ms/step - loss: 0.4864 - accuracy: 0.7940\n",
      "Epoch 16/100\n",
      "1/1 [==============================] - 0s 12ms/step - loss: 0.4751 - accuracy: 0.8015\n",
      "Epoch 17/100\n",
      "1/1 [==============================] - 0s 12ms/step - loss: 0.4638 - accuracy: 0.8141\n",
      "Epoch 18/100\n",
      "1/1 [==============================] - 0s 11ms/step - loss: 0.4527 - accuracy: 0.8191\n",
      "Epoch 19/100\n",
      "1/1 [==============================] - 0s 12ms/step - loss: 0.4417 - accuracy: 0.8191\n",
      "Epoch 20/100\n",
      "1/1 [==============================] - 0s 4ms/step - loss: 0.4310 - accuracy: 0.8291\n",
      "Epoch 21/100\n",
      "1/1 [==============================] - 0s 5ms/step - loss: 0.4205 - accuracy: 0.8317\n",
      "Epoch 22/100\n",
      "1/1 [==============================] - 0s 3ms/step - loss: 0.4102 - accuracy: 0.8392\n",
      "Epoch 23/100\n",
      "1/1 [==============================] - 0s 7ms/step - loss: 0.4002 - accuracy: 0.8442\n",
      "Epoch 24/100\n",
      "1/1 [==============================] - 0s 4ms/step - loss: 0.3904 - accuracy: 0.8467\n",
      "Epoch 25/100\n",
      "1/1 [==============================] - 0s 3ms/step - loss: 0.3809 - accuracy: 0.8467\n",
      "Epoch 26/100\n",
      "1/1 [==============================] - 0s 4ms/step - loss: 0.3717 - accuracy: 0.8518\n",
      "Epoch 27/100\n",
      "1/1 [==============================] - 0s 3ms/step - loss: 0.3627 - accuracy: 0.8543\n",
      "Epoch 28/100\n",
      "1/1 [==============================] - 0s 6ms/step - loss: 0.3538 - accuracy: 0.8593\n",
      "Epoch 29/100\n",
      "1/1 [==============================] - 0s 3ms/step - loss: 0.3453 - accuracy: 0.8618\n",
      "Epoch 30/100\n",
      "1/1 [==============================] - 0s 8ms/step - loss: 0.3370 - accuracy: 0.8719\n",
      "Epoch 31/100\n",
      "1/1 [==============================] - 0s 3ms/step - loss: 0.3290 - accuracy: 0.8719\n",
      "Epoch 32/100\n",
      "1/1 [==============================] - 0s 3ms/step - loss: 0.3212 - accuracy: 0.8794\n",
      "Epoch 33/100\n",
      "1/1 [==============================] - 0s 5ms/step - loss: 0.3136 - accuracy: 0.8819\n",
      "Epoch 34/100\n",
      "1/1 [==============================] - 0s 4ms/step - loss: 0.3063 - accuracy: 0.8869\n",
      "Epoch 35/100\n",
      "1/1 [==============================] - 0s 4ms/step - loss: 0.2992 - accuracy: 0.8894\n",
      "Epoch 36/100\n",
      "1/1 [==============================] - 0s 4ms/step - loss: 0.2923 - accuracy: 0.8970\n",
      "Epoch 37/100\n",
      "1/1 [==============================] - 0s 6ms/step - loss: 0.2857 - accuracy: 0.8970\n",
      "Epoch 38/100\n",
      "1/1 [==============================] - 0s 3ms/step - loss: 0.2793 - accuracy: 0.9020\n",
      "Epoch 39/100\n",
      "1/1 [==============================] - 0s 8ms/step - loss: 0.2730 - accuracy: 0.9020\n",
      "Epoch 40/100\n",
      "1/1 [==============================] - 0s 3ms/step - loss: 0.2669 - accuracy: 0.9095\n",
      "Epoch 41/100\n",
      "1/1 [==============================] - 0s 8ms/step - loss: 0.2610 - accuracy: 0.9095\n",
      "Epoch 42/100\n",
      "1/1 [==============================] - 0s 3ms/step - loss: 0.2553 - accuracy: 0.9121\n",
      "Epoch 43/100\n",
      "1/1 [==============================] - 0s 8ms/step - loss: 0.2497 - accuracy: 0.9146\n",
      "Epoch 44/100\n",
      "1/1 [==============================] - 0s 4ms/step - loss: 0.2443 - accuracy: 0.9171\n",
      "Epoch 45/100\n",
      "1/1 [==============================] - 0s 3ms/step - loss: 0.2390 - accuracy: 0.9196\n",
      "Epoch 46/100\n",
      "1/1 [==============================] - 0s 7ms/step - loss: 0.2339 - accuracy: 0.9246\n",
      "Epoch 47/100\n",
      "1/1 [==============================] - 0s 3ms/step - loss: 0.2288 - accuracy: 0.9271\n",
      "Epoch 48/100\n",
      "1/1 [==============================] - 0s 9ms/step - loss: 0.2239 - accuracy: 0.9271\n",
      "Epoch 49/100\n",
      "1/1 [==============================] - 0s 4ms/step - loss: 0.2191 - accuracy: 0.9271\n",
      "Epoch 50/100\n",
      "1/1 [==============================] - 0s 3ms/step - loss: 0.2144 - accuracy: 0.9347\n",
      "Epoch 51/100\n",
      "1/1 [==============================] - 0s 4ms/step - loss: 0.2099 - accuracy: 0.9372\n",
      "Epoch 52/100\n",
      "1/1 [==============================] - 0s 3ms/step - loss: 0.2054 - accuracy: 0.9397\n",
      "Epoch 53/100\n",
      "1/1 [==============================] - 0s 3ms/step - loss: 0.2011 - accuracy: 0.9422\n",
      "Epoch 54/100\n",
      "1/1 [==============================] - 0s 4ms/step - loss: 0.1969 - accuracy: 0.9472\n",
      "Epoch 55/100\n",
      "1/1 [==============================] - 0s 3ms/step - loss: 0.1928 - accuracy: 0.9422\n",
      "Epoch 56/100\n",
      "1/1 [==============================] - 0s 4ms/step - loss: 0.1888 - accuracy: 0.9497\n",
      "Epoch 57/100\n",
      "1/1 [==============================] - 0s 4ms/step - loss: 0.1850 - accuracy: 0.9497\n",
      "Epoch 58/100\n",
      "1/1 [==============================] - 0s 3ms/step - loss: 0.1811 - accuracy: 0.9523\n",
      "Epoch 59/100\n",
      "1/1 [==============================] - 0s 3ms/step - loss: 0.1774 - accuracy: 0.9523\n",
      "Epoch 60/100\n",
      "1/1 [==============================] - 0s 2ms/step - loss: 0.1738 - accuracy: 0.9548\n",
      "Epoch 61/100\n",
      "1/1 [==============================] - 0s 3ms/step - loss: 0.1703 - accuracy: 0.9548\n",
      "Epoch 62/100\n",
      "1/1 [==============================] - 0s 3ms/step - loss: 0.1669 - accuracy: 0.9573\n",
      "Epoch 63/100\n",
      "1/1 [==============================] - 0s 7ms/step - loss: 0.1636 - accuracy: 0.9573\n",
      "Epoch 64/100\n",
      "1/1 [==============================] - 0s 3ms/step - loss: 0.1603 - accuracy: 0.9598\n",
      "Epoch 65/100\n",
      "1/1 [==============================] - 0s 3ms/step - loss: 0.1571 - accuracy: 0.9623\n",
      "Epoch 66/100\n",
      "1/1 [==============================] - 0s 4ms/step - loss: 0.1540 - accuracy: 0.9598\n",
      "Epoch 67/100\n",
      "1/1 [==============================] - 0s 8ms/step - loss: 0.1511 - accuracy: 0.9623\n",
      "Epoch 68/100\n",
      "1/1 [==============================] - 0s 4ms/step - loss: 0.1481 - accuracy: 0.9623\n",
      "Epoch 69/100\n",
      "1/1 [==============================] - 0s 7ms/step - loss: 0.1453 - accuracy: 0.9623\n",
      "Epoch 70/100\n",
      "1/1 [==============================] - 0s 3ms/step - loss: 0.1425 - accuracy: 0.9623\n",
      "Epoch 71/100\n",
      "1/1 [==============================] - 0s 3ms/step - loss: 0.1399 - accuracy: 0.9648\n",
      "Epoch 72/100\n",
      "1/1 [==============================] - 0s 3ms/step - loss: 0.1372 - accuracy: 0.9648\n",
      "Epoch 73/100\n",
      "1/1 [==============================] - 0s 3ms/step - loss: 0.1347 - accuracy: 0.9648\n",
      "Epoch 74/100\n",
      "1/1 [==============================] - 0s 3ms/step - loss: 0.1323 - accuracy: 0.9673\n",
      "Epoch 75/100\n",
      "1/1 [==============================] - 0s 3ms/step - loss: 0.1299 - accuracy: 0.9698\n",
      "Epoch 76/100\n",
      "1/1 [==============================] - 0s 3ms/step - loss: 0.1276 - accuracy: 0.9673\n",
      "Epoch 77/100\n",
      "1/1 [==============================] - 0s 4ms/step - loss: 0.1253 - accuracy: 0.9698\n",
      "Epoch 78/100\n",
      "1/1 [==============================] - 0s 3ms/step - loss: 0.1231 - accuracy: 0.9698\n",
      "Epoch 79/100\n",
      "1/1 [==============================] - 0s 7ms/step - loss: 0.1210 - accuracy: 0.9698\n",
      "Epoch 80/100\n",
      "1/1 [==============================] - 0s 3ms/step - loss: 0.1189 - accuracy: 0.9698\n",
      "Epoch 81/100\n",
      "1/1 [==============================] - 0s 3ms/step - loss: 0.1170 - accuracy: 0.9698\n",
      "Epoch 82/100\n",
      "1/1 [==============================] - 0s 3ms/step - loss: 0.1150 - accuracy: 0.9698\n",
      "Epoch 83/100\n",
      "1/1 [==============================] - 0s 5ms/step - loss: 0.1132 - accuracy: 0.9698\n",
      "Epoch 84/100\n"
     ]
    },
    {
     "name": "stdout",
     "output_type": "stream",
     "text": [
      "1/1 [==============================] - 0s 6ms/step - loss: 0.1114 - accuracy: 0.9698\n",
      "Epoch 85/100\n",
      "1/1 [==============================] - 0s 2ms/step - loss: 0.1097 - accuracy: 0.9698\n",
      "Epoch 86/100\n",
      "1/1 [==============================] - 0s 6ms/step - loss: 0.1080 - accuracy: 0.9724\n",
      "Epoch 87/100\n",
      "1/1 [==============================] - 0s 2ms/step - loss: 0.1064 - accuracy: 0.9724\n",
      "Epoch 88/100\n",
      "1/1 [==============================] - 0s 4ms/step - loss: 0.1048 - accuracy: 0.9724\n",
      "Epoch 89/100\n",
      "1/1 [==============================] - 0s 2ms/step - loss: 0.1033 - accuracy: 0.9749\n",
      "Epoch 90/100\n",
      "1/1 [==============================] - 0s 2ms/step - loss: 0.1018 - accuracy: 0.9724\n",
      "Epoch 91/100\n",
      "1/1 [==============================] - 0s 3ms/step - loss: 0.1004 - accuracy: 0.9749\n",
      "Epoch 92/100\n",
      "1/1 [==============================] - 0s 3ms/step - loss: 0.0990 - accuracy: 0.9774\n",
      "Epoch 93/100\n",
      "1/1 [==============================] - 0s 3ms/step - loss: 0.0977 - accuracy: 0.9774\n",
      "Epoch 94/100\n",
      "1/1 [==============================] - 0s 5ms/step - loss: 0.0964 - accuracy: 0.9774\n",
      "Epoch 95/100\n",
      "1/1 [==============================] - 0s 3ms/step - loss: 0.0951 - accuracy: 0.9799\n",
      "Epoch 96/100\n",
      "1/1 [==============================] - 0s 3ms/step - loss: 0.0939 - accuracy: 0.9799\n",
      "Epoch 97/100\n",
      "1/1 [==============================] - 0s 3ms/step - loss: 0.0928 - accuracy: 0.9799\n",
      "Epoch 98/100\n",
      "1/1 [==============================] - 0s 2ms/step - loss: 0.0917 - accuracy: 0.9799\n",
      "Epoch 99/100\n",
      "1/1 [==============================] - 0s 6ms/step - loss: 0.0906 - accuracy: 0.9799\n",
      "Epoch 100/100\n",
      "1/1 [==============================] - 0s 2ms/step - loss: 0.0896 - accuracy: 0.9799\n",
      "Epoch 1/100\n",
      "13/13 [==============================] - 0s 9ms/step - loss: 0.0904 - accuracy: 0.9774 - val_loss: 0.6515 - val_accuracy: 0.8444\n",
      "Epoch 2/100\n",
      "13/13 [==============================] - 0s 3ms/step - loss: 0.0876 - accuracy: 0.9799 - val_loss: 0.7008 - val_accuracy: 0.8444\n",
      "Epoch 3/100\n",
      "13/13 [==============================] - 0s 4ms/step - loss: 0.0822 - accuracy: 0.9799 - val_loss: 0.7173 - val_accuracy: 0.8444\n",
      "Epoch 4/100\n",
      "13/13 [==============================] - 0s 3ms/step - loss: 0.0796 - accuracy: 0.9799 - val_loss: 0.7340 - val_accuracy: 0.8222\n",
      "Epoch 5/100\n",
      "13/13 [==============================] - 0s 3ms/step - loss: 0.0773 - accuracy: 0.9799 - val_loss: 0.8056 - val_accuracy: 0.8444\n",
      "Epoch 6/100\n",
      "13/13 [==============================] - 0s 3ms/step - loss: 0.0756 - accuracy: 0.9799 - val_loss: 0.8151 - val_accuracy: 0.8444\n",
      "Epoch 7/100\n",
      "13/13 [==============================] - 0s 3ms/step - loss: 0.0732 - accuracy: 0.9799 - val_loss: 0.8540 - val_accuracy: 0.8444\n",
      "Epoch 8/100\n",
      "13/13 [==============================] - 0s 3ms/step - loss: 0.0719 - accuracy: 0.9799 - val_loss: 0.9023 - val_accuracy: 0.8444\n",
      "Epoch 9/100\n",
      "13/13 [==============================] - 0s 3ms/step - loss: 0.0723 - accuracy: 0.9799 - val_loss: 0.9468 - val_accuracy: 0.8444\n",
      "Epoch 10/100\n",
      "13/13 [==============================] - 0s 3ms/step - loss: 0.0696 - accuracy: 0.9799 - val_loss: 0.9302 - val_accuracy: 0.8444\n",
      "Epoch 11/100\n",
      "13/13 [==============================] - 0s 3ms/step - loss: 0.0699 - accuracy: 0.9799 - val_loss: 0.9872 - val_accuracy: 0.8444\n",
      "Epoch 12/100\n",
      "13/13 [==============================] - 0s 3ms/step - loss: 0.0676 - accuracy: 0.9799 - val_loss: 1.0175 - val_accuracy: 0.8444\n",
      "Epoch 13/100\n",
      "13/13 [==============================] - 0s 2ms/step - loss: 0.0675 - accuracy: 0.9799 - val_loss: 1.0176 - val_accuracy: 0.8444\n",
      "Epoch 14/100\n",
      "13/13 [==============================] - 0s 3ms/step - loss: 0.0669 - accuracy: 0.9799 - val_loss: 1.0322 - val_accuracy: 0.8444\n",
      "Epoch 15/100\n",
      "13/13 [==============================] - 0s 3ms/step - loss: 0.0662 - accuracy: 0.9799 - val_loss: 1.0592 - val_accuracy: 0.8444\n",
      "Epoch 16/100\n",
      "13/13 [==============================] - 0s 3ms/step - loss: 0.0651 - accuracy: 0.9799 - val_loss: 1.1301 - val_accuracy: 0.8444\n",
      "Epoch 17/100\n",
      "13/13 [==============================] - 0s 3ms/step - loss: 0.0648 - accuracy: 0.9799 - val_loss: 1.1551 - val_accuracy: 0.8444\n",
      "Epoch 18/100\n",
      "13/13 [==============================] - 0s 3ms/step - loss: 0.0643 - accuracy: 0.9799 - val_loss: 1.1733 - val_accuracy: 0.8444\n",
      "Epoch 19/100\n",
      "13/13 [==============================] - 0s 3ms/step - loss: 0.0642 - accuracy: 0.9799 - val_loss: 1.1839 - val_accuracy: 0.8444\n",
      "Epoch 20/100\n",
      "13/13 [==============================] - 0s 3ms/step - loss: 0.0634 - accuracy: 0.9799 - val_loss: 1.2102 - val_accuracy: 0.8222\n",
      "Epoch 21/100\n",
      "13/13 [==============================] - 0s 3ms/step - loss: 0.0633 - accuracy: 0.9799 - val_loss: 1.2661 - val_accuracy: 0.8444\n",
      "Epoch 22/100\n",
      "13/13 [==============================] - 0s 4ms/step - loss: 0.0620 - accuracy: 0.9799 - val_loss: 1.3073 - val_accuracy: 0.8222\n",
      "Epoch 23/100\n",
      "13/13 [==============================] - 0s 3ms/step - loss: 0.0634 - accuracy: 0.9799 - val_loss: 1.3564 - val_accuracy: 0.8222\n",
      "Epoch 24/100\n",
      "13/13 [==============================] - 0s 3ms/step - loss: 0.0641 - accuracy: 0.9799 - val_loss: 1.3701 - val_accuracy: 0.8222\n",
      "Epoch 25/100\n",
      "13/13 [==============================] - 0s 3ms/step - loss: 0.0619 - accuracy: 0.9799 - val_loss: 1.4232 - val_accuracy: 0.8444\n",
      "Epoch 26/100\n",
      "13/13 [==============================] - 0s 3ms/step - loss: 0.0625 - accuracy: 0.9799 - val_loss: 1.4528 - val_accuracy: 0.8222\n",
      "Epoch 27/100\n",
      "13/13 [==============================] - 0s 3ms/step - loss: 0.0620 - accuracy: 0.9799 - val_loss: 1.4715 - val_accuracy: 0.8444\n",
      "Epoch 28/100\n",
      "13/13 [==============================] - 0s 3ms/step - loss: 0.0621 - accuracy: 0.9799 - val_loss: 1.5305 - val_accuracy: 0.8222\n",
      "Epoch 29/100\n",
      "13/13 [==============================] - 0s 3ms/step - loss: 0.0618 - accuracy: 0.9799 - val_loss: 1.5333 - val_accuracy: 0.8222\n",
      "Epoch 30/100\n",
      "13/13 [==============================] - 0s 3ms/step - loss: 0.0621 - accuracy: 0.9799 - val_loss: 1.5549 - val_accuracy: 0.8222\n",
      "Epoch 31/100\n",
      "13/13 [==============================] - 0s 3ms/step - loss: 0.0614 - accuracy: 0.9799 - val_loss: 1.6021 - val_accuracy: 0.8222\n",
      "Epoch 32/100\n",
      "13/13 [==============================] - 0s 3ms/step - loss: 0.0612 - accuracy: 0.9799 - val_loss: 1.6552 - val_accuracy: 0.8222\n",
      "Epoch 33/100\n",
      "13/13 [==============================] - 0s 3ms/step - loss: 0.0612 - accuracy: 0.9799 - val_loss: 1.6816 - val_accuracy: 0.8444\n",
      "Epoch 34/100\n",
      "13/13 [==============================] - 0s 3ms/step - loss: 0.0609 - accuracy: 0.9799 - val_loss: 1.7470 - val_accuracy: 0.8222\n",
      "Epoch 35/100\n",
      "13/13 [==============================] - 0s 3ms/step - loss: 0.0608 - accuracy: 0.9799 - val_loss: 1.8337 - val_accuracy: 0.8000\n",
      "Epoch 36/100\n",
      "13/13 [==============================] - 0s 3ms/step - loss: 0.0601 - accuracy: 0.9799 - val_loss: 1.8607 - val_accuracy: 0.8000\n",
      "Epoch 37/100\n",
      "13/13 [==============================] - 0s 3ms/step - loss: 0.0607 - accuracy: 0.9799 - val_loss: 1.9349 - val_accuracy: 0.8000\n",
      "Epoch 38/100\n",
      "13/13 [==============================] - 0s 3ms/step - loss: 0.0606 - accuracy: 0.9799 - val_loss: 1.9494 - val_accuracy: 0.8000\n",
      "Epoch 39/100\n",
      "13/13 [==============================] - 0s 3ms/step - loss: 0.0604 - accuracy: 0.9799 - val_loss: 2.0075 - val_accuracy: 0.8000\n",
      "Epoch 40/100\n",
      "13/13 [==============================] - 0s 3ms/step - loss: 0.0608 - accuracy: 0.9799 - val_loss: 2.0207 - val_accuracy: 0.8000\n",
      "Epoch 41/100\n",
      "13/13 [==============================] - 0s 3ms/step - loss: 0.0600 - accuracy: 0.9799 - val_loss: 2.1101 - val_accuracy: 0.8000\n",
      "Epoch 42/100\n",
      "13/13 [==============================] - 0s 3ms/step - loss: 0.0601 - accuracy: 0.9799 - val_loss: 2.1637 - val_accuracy: 0.8000\n",
      "Epoch 43/100\n",
      "13/13 [==============================] - 0s 3ms/step - loss: 0.0600 - accuracy: 0.9799 - val_loss: 2.2533 - val_accuracy: 0.8000\n",
      "Epoch 44/100\n",
      "13/13 [==============================] - 0s 3ms/step - loss: 0.0601 - accuracy: 0.9799 - val_loss: 2.3199 - val_accuracy: 0.8000\n",
      "Epoch 45/100\n",
      "13/13 [==============================] - 0s 3ms/step - loss: 0.0599 - accuracy: 0.9799 - val_loss: 2.3370 - val_accuracy: 0.8000\n",
      "Epoch 46/100\n",
      "13/13 [==============================] - 0s 3ms/step - loss: 0.0603 - accuracy: 0.9799 - val_loss: 2.3398 - val_accuracy: 0.8000\n",
      "Epoch 47/100\n"
     ]
    },
    {
     "name": "stdout",
     "output_type": "stream",
     "text": [
      "13/13 [==============================] - 0s 3ms/step - loss: 0.0602 - accuracy: 0.9799 - val_loss: 2.4635 - val_accuracy: 0.8000\n",
      "Epoch 48/100\n",
      "13/13 [==============================] - 0s 3ms/step - loss: 0.0596 - accuracy: 0.9799 - val_loss: 2.4391 - val_accuracy: 0.8000\n",
      "Epoch 49/100\n",
      "13/13 [==============================] - 0s 3ms/step - loss: 0.0606 - accuracy: 0.9799 - val_loss: 2.4993 - val_accuracy: 0.8000\n",
      "Epoch 50/100\n",
      "13/13 [==============================] - 0s 3ms/step - loss: 0.0597 - accuracy: 0.9799 - val_loss: 2.4337 - val_accuracy: 0.8000\n",
      "Epoch 51/100\n",
      "13/13 [==============================] - 0s 3ms/step - loss: 0.0599 - accuracy: 0.9799 - val_loss: 2.4612 - val_accuracy: 0.8000\n",
      "Epoch 52/100\n",
      "13/13 [==============================] - 0s 3ms/step - loss: 0.0597 - accuracy: 0.9799 - val_loss: 2.6310 - val_accuracy: 0.8000\n",
      "Epoch 53/100\n",
      "13/13 [==============================] - 0s 3ms/step - loss: 0.0598 - accuracy: 0.9799 - val_loss: 2.6219 - val_accuracy: 0.8000\n",
      "Epoch 54/100\n",
      "13/13 [==============================] - 0s 3ms/step - loss: 0.0596 - accuracy: 0.9799 - val_loss: 2.6386 - val_accuracy: 0.8000\n",
      "Epoch 55/100\n",
      "13/13 [==============================] - 0s 4ms/step - loss: 0.0598 - accuracy: 0.9799 - val_loss: 2.7144 - val_accuracy: 0.8000\n",
      "Epoch 56/100\n",
      "13/13 [==============================] - 0s 3ms/step - loss: 0.0598 - accuracy: 0.9799 - val_loss: 2.7583 - val_accuracy: 0.8000\n",
      "Epoch 57/100\n",
      "13/13 [==============================] - 0s 3ms/step - loss: 0.0601 - accuracy: 0.9799 - val_loss: 2.8059 - val_accuracy: 0.8000\n",
      "Epoch 58/100\n",
      "13/13 [==============================] - 0s 3ms/step - loss: 0.0598 - accuracy: 0.9799 - val_loss: 2.8886 - val_accuracy: 0.8000\n",
      "Epoch 59/100\n",
      "13/13 [==============================] - 0s 4ms/step - loss: 0.0594 - accuracy: 0.9799 - val_loss: 2.9141 - val_accuracy: 0.8000\n",
      "Epoch 60/100\n",
      "13/13 [==============================] - 0s 4ms/step - loss: 0.0596 - accuracy: 0.9799 - val_loss: 2.9787 - val_accuracy: 0.8000\n",
      "Epoch 61/100\n",
      "13/13 [==============================] - 0s 4ms/step - loss: 0.0594 - accuracy: 0.9799 - val_loss: 3.0144 - val_accuracy: 0.8000\n",
      "Epoch 62/100\n",
      "13/13 [==============================] - 0s 4ms/step - loss: 0.0604 - accuracy: 0.9799 - val_loss: 3.1693 - val_accuracy: 0.8000\n",
      "Epoch 63/100\n",
      "13/13 [==============================] - 0s 3ms/step - loss: 0.0591 - accuracy: 0.9799 - val_loss: 3.1606 - val_accuracy: 0.8000\n",
      "Epoch 64/100\n",
      "13/13 [==============================] - 0s 3ms/step - loss: 0.0595 - accuracy: 0.9799 - val_loss: 3.1455 - val_accuracy: 0.7778\n",
      "Epoch 65/100\n",
      "13/13 [==============================] - 0s 3ms/step - loss: 0.0605 - accuracy: 0.9799 - val_loss: 3.3283 - val_accuracy: 0.8000\n",
      "Epoch 66/100\n",
      "13/13 [==============================] - 0s 3ms/step - loss: 0.0600 - accuracy: 0.9799 - val_loss: 3.3068 - val_accuracy: 0.8000\n",
      "Epoch 67/100\n",
      "13/13 [==============================] - 0s 2ms/step - loss: 0.0594 - accuracy: 0.9799 - val_loss: 3.3688 - val_accuracy: 0.8000\n",
      "Epoch 68/100\n",
      "13/13 [==============================] - 0s 3ms/step - loss: 0.0595 - accuracy: 0.9799 - val_loss: 3.3538 - val_accuracy: 0.8000\n",
      "Epoch 69/100\n",
      "13/13 [==============================] - 0s 4ms/step - loss: 0.0594 - accuracy: 0.9799 - val_loss: 3.4553 - val_accuracy: 0.8000\n",
      "Epoch 70/100\n",
      "13/13 [==============================] - 0s 4ms/step - loss: 0.0599 - accuracy: 0.9799 - val_loss: 3.5883 - val_accuracy: 0.8000\n",
      "Epoch 71/100\n",
      "13/13 [==============================] - 0s 3ms/step - loss: 0.0589 - accuracy: 0.9799 - val_loss: 3.5199 - val_accuracy: 0.8000\n",
      "Epoch 72/100\n",
      "13/13 [==============================] - 0s 4ms/step - loss: 0.0594 - accuracy: 0.9799 - val_loss: 3.6614 - val_accuracy: 0.8000\n",
      "Epoch 73/100\n",
      "13/13 [==============================] - 0s 4ms/step - loss: 0.0592 - accuracy: 0.9799 - val_loss: 3.5717 - val_accuracy: 0.8000\n",
      "Epoch 74/100\n",
      "13/13 [==============================] - 0s 4ms/step - loss: 0.0592 - accuracy: 0.9799 - val_loss: 3.6430 - val_accuracy: 0.8000\n",
      "Epoch 75/100\n",
      "13/13 [==============================] - 0s 3ms/step - loss: 0.0596 - accuracy: 0.9799 - val_loss: 3.6755 - val_accuracy: 0.8000\n",
      "Epoch 76/100\n",
      "13/13 [==============================] - 0s 4ms/step - loss: 0.0593 - accuracy: 0.9799 - val_loss: 3.7400 - val_accuracy: 0.8000\n",
      "Epoch 77/100\n",
      "13/13 [==============================] - 0s 3ms/step - loss: 0.0600 - accuracy: 0.9799 - val_loss: 3.7959 - val_accuracy: 0.8000\n",
      "Epoch 78/100\n",
      "13/13 [==============================] - 0s 4ms/step - loss: 0.0595 - accuracy: 0.9799 - val_loss: 3.8039 - val_accuracy: 0.8000\n",
      "Epoch 79/100\n",
      "13/13 [==============================] - 0s 4ms/step - loss: 0.0593 - accuracy: 0.9799 - val_loss: 3.8771 - val_accuracy: 0.8000\n",
      "Epoch 80/100\n",
      "13/13 [==============================] - 0s 3ms/step - loss: 0.0598 - accuracy: 0.9799 - val_loss: 3.8958 - val_accuracy: 0.8000\n",
      "Epoch 81/100\n",
      "13/13 [==============================] - 0s 4ms/step - loss: 0.0597 - accuracy: 0.9799 - val_loss: 4.0235 - val_accuracy: 0.8000\n",
      "Epoch 82/100\n",
      "13/13 [==============================] - 0s 3ms/step - loss: 0.0606 - accuracy: 0.9799 - val_loss: 3.8711 - val_accuracy: 0.7778\n",
      "Epoch 83/100\n",
      "13/13 [==============================] - 0s 4ms/step - loss: 0.0596 - accuracy: 0.9799 - val_loss: 3.9360 - val_accuracy: 0.8000\n",
      "Epoch 84/100\n",
      "13/13 [==============================] - 0s 4ms/step - loss: 0.0595 - accuracy: 0.9799 - val_loss: 3.9972 - val_accuracy: 0.8000\n",
      "Epoch 85/100\n",
      "13/13 [==============================] - 0s 3ms/step - loss: 0.0588 - accuracy: 0.9799 - val_loss: 3.9608 - val_accuracy: 0.8000\n",
      "Epoch 86/100\n",
      "13/13 [==============================] - 0s 3ms/step - loss: 0.0602 - accuracy: 0.9799 - val_loss: 3.9365 - val_accuracy: 0.7778\n",
      "Epoch 87/100\n",
      "13/13 [==============================] - 0s 3ms/step - loss: 0.0592 - accuracy: 0.9799 - val_loss: 4.0062 - val_accuracy: 0.8000\n",
      "Epoch 88/100\n",
      "13/13 [==============================] - 0s 3ms/step - loss: 0.0597 - accuracy: 0.9799 - val_loss: 4.0649 - val_accuracy: 0.8000\n",
      "Epoch 89/100\n",
      "13/13 [==============================] - 0s 3ms/step - loss: 0.0597 - accuracy: 0.9799 - val_loss: 4.1251 - val_accuracy: 0.8000\n",
      "Epoch 90/100\n",
      "13/13 [==============================] - 0s 3ms/step - loss: 0.0594 - accuracy: 0.9799 - val_loss: 4.1122 - val_accuracy: 0.7778\n",
      "Epoch 91/100\n",
      "13/13 [==============================] - 0s 3ms/step - loss: 0.0596 - accuracy: 0.9799 - val_loss: 4.2143 - val_accuracy: 0.8000\n",
      "Epoch 92/100\n",
      "13/13 [==============================] - 0s 3ms/step - loss: 0.0591 - accuracy: 0.9799 - val_loss: 4.1552 - val_accuracy: 0.7778\n",
      "Epoch 93/100\n",
      "13/13 [==============================] - 0s 3ms/step - loss: 0.0591 - accuracy: 0.9799 - val_loss: 4.2395 - val_accuracy: 0.7778\n",
      "Epoch 94/100\n",
      "13/13 [==============================] - 0s 3ms/step - loss: 0.0591 - accuracy: 0.9799 - val_loss: 4.3496 - val_accuracy: 0.8000\n",
      "Epoch 95/100\n",
      "13/13 [==============================] - 0s 3ms/step - loss: 0.0591 - accuracy: 0.9799 - val_loss: 4.2986 - val_accuracy: 0.7778\n",
      "Epoch 96/100\n",
      "13/13 [==============================] - 0s 3ms/step - loss: 0.0595 - accuracy: 0.9799 - val_loss: 4.2960 - val_accuracy: 0.7778\n",
      "Epoch 97/100\n",
      "13/13 [==============================] - 0s 3ms/step - loss: 0.0601 - accuracy: 0.9799 - val_loss: 4.4325 - val_accuracy: 0.8000\n",
      "Epoch 98/100\n",
      "13/13 [==============================] - 0s 3ms/step - loss: 0.0590 - accuracy: 0.9799 - val_loss: 4.4973 - val_accuracy: 0.8000\n",
      "Epoch 99/100\n",
      "13/13 [==============================] - 0s 3ms/step - loss: 0.0589 - accuracy: 0.9799 - val_loss: 4.4684 - val_accuracy: 0.7778\n",
      "Epoch 100/100\n",
      "13/13 [==============================] - 0s 3ms/step - loss: 0.0592 - accuracy: 0.9799 - val_loss: 4.5708 - val_accuracy: 0.8000\n",
      "2/2 [==============================] - 0s 2ms/step - loss: 4.5708 - accuracy: 0.8000\n"
     ]
    }
   ],
   "source": [
    "from tensorflow.keras import models\n",
    "from tensorflow.keras import layers\n",
    "from tensorflow.keras import optimizers\n",
    "from tensorflow.keras import losses\n",
    "from tensorflow.keras import metrics\n",
    "\n",
    "model = models.Sequential()\n",
    "model.add(layers.Dense(64, activation='relu', input_shape=(100,)))\n",
    "model.add(layers.Dense(64, activation='relu'))\n",
    "model.add(layers.Dense(1, activation='sigmoid'))\n",
    "\n",
    "model.compile(optimizer=optimizers.RMSprop(lr=0.001),\n",
    "             loss=losses.binary_crossentropy,\n",
    "             metrics=['accuracy'])\n",
    "\n",
    "model.fit(x_train, y_train, epochs=100, batch_size=512)\n",
    "history = model.fit(x_train, y_train, epochs=100, validation_data=(x_test,y_test))\n",
    "results = model.evaluate(x_test, y_test)"
   ]
  },
  {
   "cell_type": "code",
   "execution_count": 34,
   "id": "59df4836",
   "metadata": {},
   "outputs": [],
   "source": [
    " model.save('review_pos_neg_predict.h5')"
   ]
  },
  {
   "cell_type": "code",
   "execution_count": 35,
   "id": "4e4ce2eb",
   "metadata": {},
   "outputs": [
    {
     "name": "stdout",
     "output_type": "stream",
     "text": [
      "2/2 [==============================] - 0s 9ms/step - loss: 4.5708 - accuracy: 0.8000\n"
     ]
    },
    {
     "data": {
      "text/plain": [
       "[4.57081413269043, 0.800000011920929]"
      ]
     },
     "execution_count": 35,
     "metadata": {},
     "output_type": "execute_result"
    }
   ],
   "source": [
    "model.evaluate(x_test, y_test)"
   ]
  },
  {
   "cell_type": "code",
   "execution_count": 38,
   "id": "fc6136ad",
   "metadata": {},
   "outputs": [
    {
     "data": {
      "image/png": "[encoded data removed]",
      "text/plain": [
       "<Figure size 432x288 with 1 Axes>"
      ]
     },
     "metadata": {
      "needs_background": "light"
     },
     "output_type": "display_data"
    },
    {
     "data": {
      "image/png": "[encoded data removed]",
      "text/plain": [
       "<Figure size 432x288 with 1 Axes>"
      ]
     },
     "metadata": {
      "needs_background": "light"
     },
     "output_type": "display_data"
    }
   ],
   "source": [
    "plt.plot(history.history['accuracy'])\n",
    "plt.plot(history.history['val_accuracy'])\n",
    "plt.title('model accuracy')\n",
    "plt.ylabel('accuracy')\n",
    "plt.xlabel('epoch')\n",
    "plt.legend(['train', 'test'], loc='upper left')\n",
    "plt.show()\n",
    "# summarize history for loss\n",
    "plt.plot(history.history['loss'])\n",
    "plt.plot(history.history['val_loss'])\n",
    "plt.title('model loss')\n",
    "plt.ylabel('loss')\n",
    "plt.xlabel('epoch')\n",
    "plt.legend(['train', 'test'], loc='upper left')\n",
    "plt.show()"
   ]
  },
  {
   "cell_type": "code",
   "execution_count": null,
   "id": "018dc0c3",
   "metadata": {},
   "outputs": [],
   "source": []
  },
  {
   "cell_type": "code",
   "execution_count": 25,
   "id": "2b2d7ae3",
   "metadata": {},
   "outputs": [],
   "source": [
    "def predict_pos_neg(review):\n",
    "    token = tokenize(review)\n",
    "    tf = term_frequency(token)\n",
    "    data = np.expand_dims(np.asarray(tf).astype('float32'), axis=0)\n",
    "    score = float(model.predict(data))\n",
    "    if(score > 0.5):\n",
    "        print(\"[{}]는 {:.2f}% 확률로 긍정 리뷰이지 않을까 추측해봅니다.^^\\n\".format(review, score * 100))\n",
    "    else:\n",
    "        print(\"[{}]는 {:.2f}% 확률로 부정 리뷰이지 않을까 추측해봅니다.^^;\\n\".format(review, (1 - score) * 100))"
   ]
  },
  {
   "cell_type": "code",
   "execution_count": 28,
   "id": "37a670ce",
   "metadata": {},
   "outputs": [
    {
     "name": "stdout",
     "output_type": "stream",
     "text": [
      "[어플이 너무 좋은것 같습니다]는 99.02% 확률로 긍정 리뷰이지 않을까 추측해봅니다.^^\n",
      "\n",
      "[결제 유도가 너무 심합니다]는 88.57% 확률로 부정 리뷰이지 않을까 추측해봅니다.^^;\n",
      "\n"
     ]
    }
   ],
   "source": [
    "predict_pos_neg(\"어플이 너무 좋은것 같습니다\")\n",
    "predict_pos_neg('결제 유도가 너무 심합니다')"
   ]
  }
 ],
 "metadata": {
  "kernelspec": {
   "display_name": "gpu",
   "language": "python",
   "name": "gpu"
  },
  "language_info": {
   "codemirror_mode": {
    "name": "ipython",
    "version": 3
   },
   "file_extension": ".py",
   "mimetype": "text/x-python",
   "name": "python",
   "nbconvert_exporter": "python",
   "pygments_lexer": "ipython3",
   "version": "3.7.13"
  }
 },
 "nbformat": 4,
 "nbformat_minor": 5
}
